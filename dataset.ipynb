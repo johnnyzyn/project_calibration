{
 "cells": [
  {
   "cell_type": "code",
   "execution_count": 4,
   "metadata": {},
   "outputs": [],
   "source": [
    "from robustness_dataset import RobustnessDataset\n",
    "import numpy as np\n",
    "import matplotlib.pyplot as plt\n",
    "import matplotlib as mpl\n",
    "\n",
    "import pandas as pd\n",
    "import seaborn as sns\n",
    "import matplotlib.pyplot as plt"
   ]
  },
  {
   "cell_type": "code",
   "execution_count": 5,
   "metadata": {},
   "outputs": [],
   "source": [
    "data = RobustnessDataset(path=\"/home/younan/project_calibration\")"
   ]
  },
  {
   "cell_type": "code",
   "execution_count": 6,
   "metadata": {},
   "outputs": [
    {
     "data": {
      "text/plain": [
       "'991'"
      ]
     },
     "execution_count": 6,
     "metadata": {},
     "output_type": "execute_result"
    }
   ],
   "source": [
    "len(data.non_isomorph_ids)\n",
    "data.get_uid(3365)"
   ]
  },
  {
   "cell_type": "code",
   "execution_count": 7,
   "metadata": {},
   "outputs": [],
   "source": [
    "df = pd.read_csv('./final_results/cifar10_sss.csv')"
   ]
  },
  {
   "cell_type": "code",
   "execution_count": 9,
   "metadata": {},
   "outputs": [
    {
     "data": {
      "text/plain": [
       "Index(['config', 'info', 'dataset', 'arch', 'ece', 'ece_em', 'cwECE',\n",
       "       'cwECE_em', 'timestamp'],\n",
       "      dtype='object')"
      ]
     },
     "execution_count": 9,
     "metadata": {},
     "output_type": "execute_result"
    }
   ],
   "source": [
    "df.columns"
   ]
  },
  {
   "cell_type": "code",
   "execution_count": 24,
   "metadata": {},
   "outputs": [],
   "source": [
    "import re\n",
    "\n",
    "# Helper function to extract the value of 'result' corresponding to a specific 'n_bins' or 'num_bins' value\n",
    "def extract_result(data, target_bins):\n",
    "    for item in data:\n",
    "        if ('n_bins' in item and item['n_bins'] == target_bins) or ('num_bins' in item and item['num_bins'] == target_bins):\n",
    "            return item['result']\n",
    "    return None\n",
    "\n",
    "# Function to apply to each row of the dataframe\n",
    "def expand_metrics(row):\n",
    "    # Parse the metrics data using eval()\n",
    "    for col in ['ece', 'ece_em', 'cwECE', 'cwECE_em']:\n",
    "        data = eval(row[col])\n",
    "\n",
    "        # Extract the results for each desired bin size and create new columns\n",
    "        for bin_size in [5,10,15,20,25,50,100,200,500]:\n",
    "            col_name = f\"{col}_{bin_size}\"\n",
    "            row[col_name] = extract_result(data, bin_size)\n",
    "\n",
    "    return row\n",
    "\n",
    "# Assume df is your dataframe with the original columns\n",
    "# Apply the expand_metrics function to each row\n",
    "df_expanded = df.apply(expand_metrics, axis=1)\n",
    "\n"
   ]
  },
  {
   "cell_type": "code",
   "execution_count": 29,
   "metadata": {},
   "outputs": [],
   "source": [
    "df_expanded = df_expanded.drop(['ece', 'ece_em', 'cwECE',\n",
    "       'cwECE_em', 'timestamp'], axis=1)"
   ]
  },
  {
   "cell_type": "code",
   "execution_count": 30,
   "metadata": {},
   "outputs": [],
   "source": [
    "df_expanded.to_csv('./final_results/cifar10_sss_expand.csv', index=False)"
   ]
  },
  {
   "cell_type": "code",
   "execution_count": 84,
   "metadata": {},
   "outputs": [],
   "source": [
    "df = pd.read_csv('./final_results/cifar10_results.csv')"
   ]
  },
  {
   "cell_type": "code",
   "execution_count": 86,
   "metadata": {},
   "outputs": [
    {
     "name": "stdout",
     "output_type": "stream",
     "text": [
      "6466\n",
      "15625\n"
     ]
    }
   ],
   "source": [
    "##extend tss to full 15625 archi\n",
    "df = pd.read_csv('./final_results/cifar10_results.csv')\n",
    "\n",
    "df_extend  =df.copy()\n",
    "for i in range(15625):\n",
    "    if data.get_uid(i) != str(i):\n",
    "        replace_i = int(data.get_uid(i))\n",
    "        row = df_extend.loc[df_extend['config']==replace_i]\n",
    "        row.iloc[0, row.columns.get_loc('config')] = i\n",
    "\n",
    "        df_extend = pd.concat([df_extend, row])\n",
    "\n",
    "print(len(df))\n",
    "print(len(df_extend))\n",
    "\n",
    "df_extend.to_csv('./final_results/cifar10_results_full.csv', index=False)"
   ]
  }
 ],
 "metadata": {
  "kernelspec": {
   "display_name": "pytorch_3.7",
   "language": "python",
   "name": "python3"
  },
  "language_info": {
   "codemirror_mode": {
    "name": "ipython",
    "version": 3
   },
   "file_extension": ".py",
   "mimetype": "text/x-python",
   "name": "python",
   "nbconvert_exporter": "python",
   "pygments_lexer": "ipython3",
   "version": "3.9.16"
  },
  "orig_nbformat": 4
 },
 "nbformat": 4,
 "nbformat_minor": 2
}
