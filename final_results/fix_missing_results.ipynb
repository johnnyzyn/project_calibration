{
 "cells": [
  {
   "cell_type": "code",
   "execution_count": 8,
   "metadata": {},
   "outputs": [],
   "source": [
    "import pandas as pd\n",
    "import seaborn as sns\n",
    "import matplotlib.pyplot as plt\n",
    "import sys\n",
    "sys.path.append('..')\n",
    "from robustness_dataset import RobustnessDataset"
   ]
  },
  {
   "attachments": {},
   "cell_type": "markdown",
   "metadata": {},
   "source": [
    "CIFAR10_pre"
   ]
  },
  {
   "cell_type": "code",
   "execution_count": 15,
   "metadata": {},
   "outputs": [],
   "source": [
    "df_cifar10 = pd.read_csv('./cifar10_results.csv')\n",
    "data = RobustnessDataset(path=\"./\")"
   ]
  },
  {
   "cell_type": "code",
   "execution_count": 23,
   "metadata": {},
   "outputs": [],
   "source": [
    "non_isomorph_ids_set = set(data.non_isomorph_ids)\n",
    "config_set = set(df_cifar10['config'].astype(str))\n",
    "missing_ids = non_isomorph_ids_set.difference(config_set)\n",
    "missing_ids_list = sorted(list(missing_ids), key=int)\n",
    "\n"
   ]
  },
  {
   "cell_type": "code",
   "execution_count": 24,
   "metadata": {},
   "outputs": [
    {
     "name": "stdout",
     "output_type": "stream",
     "text": [
      "['7819', '7821', '7826', '7827', '7828', '7831', '7834', '7841', '7843', '7844', '7845', '7847', '7848', '7850', '7855', '7856', '7857', '7860', '7863', '7865', '7866', '7868', '7880', '7881', '7885', '7886', '7887', '7891', '7897', '7898', '7900', '7901', '7906', '7908', '7913', '7914', '7918', '7921', '7924', '7925', '7926', '7928', '7931', '7934', '7935', '7940', '7942', '7943', '7944', '7945', '7947', '7951', '7958', '7961', '7963', '7966', '7968', '7975', '7976', '7978', '7986', '7987', '7990', '7994', '7997', '7999', '8002', '8004', '8006', '8007', '8012', '8014', '8020', '8030', '8035', '8037', '8049', '8052', '8056', '8059', '8063', '8072', '8073', '8074', '8075', '8078', '8081', '8082', '8085', '8086', '8092', '8093', '8094', '8095', '8097', '8101', '8102', '8104', '8107', '8109', '8110', '8111', '8114', '8116', '8117', '8118', '8119', '8120', '8124', '8129', '8132', '8135', '8142', '8143', '8144', '8148', '8149', '8150', '8151', '8154', '8155', '8156', '8160', '8161', '8162', '8163', '8166', '8170', '8174', '8175', '8180', '8182', '8184', '8188', '8190', '8194', '8196', '8198', '8202', '8203', '8209', '8212', '8216', '8217', '8219', '8221', '8223', '8227', '8228', '8234', '8239', '8242', '8244', '8245', '8248', '8254', '8257', '8258', '8259', '8260', '8261', '8262', '8272', '8273', '8277', '8282', '8283', '8284', '8286', '8287', '8290', '8291', '8294', '8295', '8300']\n"
     ]
    }
   ],
   "source": [
    "print(missing_ids_list)"
   ]
  },
  {
   "cell_type": "code",
   "execution_count": null,
   "metadata": {},
   "outputs": [],
   "source": []
  },
  {
   "cell_type": "code",
   "execution_count": 5,
   "metadata": {},
   "outputs": [
    {
     "data": {
      "text/plain": [
       "0           0\n",
       "1           1\n",
       "2           2\n",
       "3           3\n",
       "4           4\n",
       "        ...  \n",
       "6286    15611\n",
       "6287    15613\n",
       "6288    15617\n",
       "6289    15619\n",
       "6290    15624\n",
       "Name: config, Length: 6291, dtype: int64"
      ]
     },
     "execution_count": 5,
     "metadata": {},
     "output_type": "execute_result"
    }
   ],
   "source": [
    "df_cifar10['config']"
   ]
  },
  {
   "cell_type": "code",
   "execution_count": null,
   "metadata": {},
   "outputs": [],
   "source": []
  }
 ],
 "metadata": {
  "kernelspec": {
   "display_name": "pytorch",
   "language": "python",
   "name": "python3"
  },
  "language_info": {
   "codemirror_mode": {
    "name": "ipython",
    "version": 3
   },
   "file_extension": ".py",
   "mimetype": "text/x-python",
   "name": "python",
   "nbconvert_exporter": "python",
   "pygments_lexer": "ipython3",
   "version": "3.9.16"
  },
  "orig_nbformat": 4
 },
 "nbformat": 4,
 "nbformat_minor": 2
}
